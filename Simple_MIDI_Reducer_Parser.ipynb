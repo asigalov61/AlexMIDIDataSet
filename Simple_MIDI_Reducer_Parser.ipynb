{
  "nbformat": 4,
  "nbformat_minor": 0,
  "metadata": {
    "kernelspec": {
      "display_name": "Python 3",
      "language": "python",
      "name": "python3"
    },
    "language_info": {
      "codemirror_mode": {
        "name": "ipython",
        "version": 3
      },
      "file_extension": ".py",
      "mimetype": "text/x-python",
      "name": "python",
      "nbconvert_exporter": "python",
      "pygments_lexer": "ipython3",
      "version": "3.7.3"
    },
    "colab": {
      "name": "Simple MIDI Reducer Parser.ipynb",
      "provenance": [],
      "collapsed_sections": [],
      "include_colab_link": true
    }
  },
  "cells": [
    {
      "cell_type": "markdown",
      "metadata": {
        "id": "view-in-github",
        "colab_type": "text"
      },
      "source": [
        "<a href=\"https://colab.research.google.com/github/asigalov61/AlexMIDIDataSet/blob/master/Simple_MIDI_Reducer_Parser.ipynb\" target=\"_parent\"><img src=\"https://colab.research.google.com/assets/colab-badge.svg\" alt=\"Open In Colab\"/></a>"
      ]
    },
    {
      "cell_type": "markdown",
      "metadata": {
        "id": "JNaXIu9FShxk",
        "colab_type": "text"
      },
      "source": [
        "# Simple MIDI Reducer/Parser"
      ]
    },
    {
      "cell_type": "markdown",
      "metadata": {
        "id": "aySn2qfJSq0z",
        "colab_type": "text"
      },
      "source": [
        "### Created by Ravi A. and all credit goes out to him for his amazing and simple reducer code :)"
      ]
    },
    {
      "cell_type": "markdown",
      "metadata": {
        "id": "pk4xFiYrS-6T",
        "colab_type": "text"
      },
      "source": [
        "## Setup Environment and Dependencies"
      ]
    },
    {
      "cell_type": "code",
      "metadata": {
        "id": "hLrWfODGyPTH",
        "colab_type": "code",
        "colab": {},
        "cellView": "form"
      },
      "source": [
        "#@title Start Here to setup the Environment and Dependencies\n",
        "!pip install pretty_midi\n",
        "import pretty_midi\n",
        "import glob\n",
        "import os\n",
        "import random\n",
        "import IPython.display as ipd"
      ],
      "execution_count": null,
      "outputs": []
    },
    {
      "cell_type": "markdown",
      "metadata": {
        "id": "7e_5CE74TGSf",
        "colab_type": "text"
      },
      "source": [
        "### Create IO directories if do not exist"
      ]
    },
    {
      "cell_type": "code",
      "metadata": {
        "id": "NhLXIQ8UyPTd",
        "colab_type": "code",
        "colab": {},
        "cellView": "form"
      },
      "source": [
        "#@title Choose names for Source and Destination folders for conversion\n",
        "source_dir = \"alex_midi_original\" #@param {type:\"string\"}\n",
        "dest_dir = \"alex_midi_piano_only\" #@param {type:\"string\"}\n",
        "source_path = source_dir\n",
        "dest_path = dest_dir\n",
        "if not os.path.exists(source_path):\n",
        "    os.makedirs(source_path)\n",
        "if not os.path.exists(dest_path):\n",
        "    os.makedirs(dest_path)"
      ],
      "execution_count": null,
      "outputs": []
    },
    {
      "cell_type": "markdown",
      "metadata": {
        "id": "3U9Zk0DVTTcJ",
        "colab_type": "text"
      },
      "source": [
        "Download and Unzip Alex MIDI Dataset (Multi-Instrumental with Drums) to the source directory specified in the previous section"
      ]
    },
    {
      "cell_type": "code",
      "metadata": {
        "id": "rQuH1i7EUHwx",
        "colab_type": "code",
        "colab": {},
        "cellView": "form"
      },
      "source": [
        "#@title Download and Unzip Alex Piano MIDI Dataset (~400 MIDIs)\n",
        "%cd /content/alex_midi_original/\n",
        "!wget 'https://github.com/asigalov61/AlexMIDIDataSet/raw/master/AlexMIDIDataSet-CC-BY-NC-SA.zip'\n",
        "!unzip -j 'AlexMIDIDataSet-CC-BY-NC-SA.zip'\n",
        "%cd /content/"
      ],
      "execution_count": null,
      "outputs": []
    },
    {
      "cell_type": "code",
      "metadata": {
        "id": "HAhJ4PYFyPTk",
        "colab_type": "code",
        "colab": {},
        "cellView": "form"
      },
      "source": [
        "#@title Create a list of paths and files. Select desired MIDI extension\n",
        "files_extension = \"*.mid\" #@param [\"*.mid\", \"*.midi\"]\n",
        "source_files = glob.glob(os.path.join(source_path, files_extension))"
      ],
      "execution_count": null,
      "outputs": []
    },
    {
      "cell_type": "code",
      "metadata": {
        "id": "oapelHZpyPTx",
        "colab_type": "code",
        "colab": {},
        "cellView": "form"
      },
      "source": [
        "#@title Define reducer/parser function and input desired instrument to reduce to\n",
        "is_it_drums = False #@param {type:\"boolean\"}\n",
        "desired_instrument_to_reduce_to = \"piano\" #@param {type:\"string\"}\n",
        "def filter_piano(fname):\n",
        "    pm = pretty_midi.PrettyMIDI(fname)\n",
        "    outmid = pretty_midi.PrettyMIDI()\n",
        "    inst = pretty_midi.Instrument(program=0, is_drum=is_it_drums, name=desired_instrument_to_reduce_to)\n",
        "    outmid.instruments.append(inst)\n",
        "    added=0\n",
        "    for instrument in pm.instruments:\n",
        "        if instrument.program ==0 and not instrument.is_drum:\n",
        "            print('Adding', instrument)\n",
        "            added+=1\n",
        "            for note in instrument.notes:\n",
        "                inst.notes.append(note)\n",
        "        else:\n",
        "            print('Skipping', instrument)\n",
        "    \n",
        "    return pm, outmid, added"
      ],
      "execution_count": null,
      "outputs": []
    },
    {
      "cell_type": "markdown",
      "metadata": {
        "id": "xUJjW9q7Zo1t",
        "colab_type": "text"
      },
      "source": [
        "### Reducer-Parser-Filter Loop/Main Function"
      ]
    },
    {
      "cell_type": "code",
      "metadata": {
        "id": "rdToB-pcyPT7",
        "colab_type": "code",
        "colab": {},
        "cellView": "form"
      },
      "source": [
        "#@title Run this to reduce/filter all files. Select output files extension and name tag\n",
        "output_extension = \".mid\" #@param {type:\"string\"}\n",
        "output_files_names_tag = \"_piano.mid\" #@param {type:\"string\"}\n",
        "#fname = random.choice(source_files)\n",
        "for fname in source_files:\n",
        "    print(\"Reading:\", fname)\n",
        "    pm, outmid, added =filter_piano(fname)\n",
        "    if added>0:\n",
        "        outname = fname.replace(output_extension, output_files_names_tag).replace(source_path, dest_path)\n",
        "        print(\"Writing\", outname)\n",
        "        outmid.write(outname)\n",
        "        #audio = pm.synthesize()\n",
        "        #audio2 = outmid.synthesize()\n",
        "    print()"
      ],
      "execution_count": null,
      "outputs": []
    },
    {
      "cell_type": "code",
      "metadata": {
        "id": "27sEoALVyPUF",
        "colab_type": "code",
        "colab": {},
        "cellView": "form"
      },
      "source": [
        "#@title Synth last converted MIDI and play it as WAV (Yes, I know this synthesizer sucks. Help to change it to Fluidsynth at least. Thanx.)\n",
        "audio2 = outmid.synthesize()\n",
        "ipd.Audio(audio2, rate=44100)"
      ],
      "execution_count": null,
      "outputs": []
    }
  ]
}